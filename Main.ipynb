{
 "cells": [
  {
   "cell_type": "markdown",
   "id": "4de2cee6-0789-4017-95ae-ca9ab5b01b1b",
   "metadata": {},
   "source": [
    "## Ignore Warning"
   ]
  },
  {
   "cell_type": "code",
   "execution_count": 23,
   "id": "bbd64d6f-05c9-410e-aef9-0e0060bf97ae",
   "metadata": {},
   "outputs": [],
   "source": [
    "import warnings\n",
    "warnings.filterwarnings('ignore')"
   ]
  },
  {
   "cell_type": "markdown",
   "id": "14e5a4fe-ad2a-4a1c-932e-47f281aa0c50",
   "metadata": {},
   "source": [
    "## Import API"
   ]
  },
  {
   "cell_type": "code",
   "execution_count": 24,
   "id": "0a44f29b-3865-4e29-92c6-c3c36262d5d6",
   "metadata": {},
   "outputs": [],
   "source": [
    "from utils import load_env\n",
    "load_env()\n",
    "from utils import get_tavily_api_key\n",
    "TAVILY_API_KEY = get_tavily_api_key()"
   ]
  },
  {
   "cell_type": "markdown",
   "id": "e3838d66-229c-435c-bc64-6c20daa5417f",
   "metadata": {},
   "source": [
    "## Import Function"
   ]
  },
  {
   "cell_type": "code",
   "execution_count": 25,
   "id": "ff97138d-d455-4f37-8fbc-286d5184b2aa",
   "metadata": {},
   "outputs": [],
   "source": [
    "from utils import llama32\n",
    "from utils import llama31\n",
    "from utils import cprint\n",
    "from utils import disp_image\n",
    "import json"
   ]
  },
  {
   "cell_type": "markdown",
   "id": "5cf81341-4f5b-4bdd-883d-76ffebcc01c2",
   "metadata": {},
   "source": [
    "## User Interface"
   ]
  },
  {
   "cell_type": "code",
   "execution_count": 26,
   "id": "2ada9d70-0c84-4a9a-8550-974eb5600b4e",
   "metadata": {},
   "outputs": [
    {
     "name": "stdout",
     "output_type": "stream",
     "text": [
      "Running on local URL:  http://127.0.0.1:7866\n"
     ]
    },
    {
     "name": "stderr",
     "output_type": "stream",
     "text": [
      "INFO:httpx:HTTP Request: GET http://127.0.0.1:7866/startup-events \"HTTP/1.1 200 OK\"\n",
      "INFO:httpx:HTTP Request: HEAD http://127.0.0.1:7866/ \"HTTP/1.1 200 OK\"\n",
      "INFO:httpx:HTTP Request: GET https://api.gradio.app/pkg-version \"HTTP/1.1 200 OK\"\n",
      "INFO:httpx:HTTP Request: GET https://api.gradio.app/v2/tunnel-request \"HTTP/1.1 200 OK\"\n"
     ]
    },
    {
     "name": "stdout",
     "output_type": "stream",
     "text": [
      "Running on public URL: https://7a08e6656f7e164eba.gradio.live\n",
      "\n",
      "This share link expires in 72 hours. For free permanent hosting and GPU upgrades, run `gradio deploy` from Terminal to deploy to Spaces (https://huggingface.co/spaces)\n"
     ]
    },
    {
     "name": "stderr",
     "output_type": "stream",
     "text": [
      "INFO:httpx:HTTP Request: HEAD https://7a08e6656f7e164eba.gradio.live \"HTTP/1.1 200 OK\"\n"
     ]
    },
    {
     "data": {
      "text/html": [
       "<div><iframe src=\"https://7a08e6656f7e164eba.gradio.live\" width=\"100%\" height=\"500\" allow=\"autoplay; camera; microphone; clipboard-read; clipboard-write;\" frameborder=\"0\" allowfullscreen></iframe></div>"
      ],
      "text/plain": [
       "<IPython.core.display.HTML object>"
      ]
     },
     "metadata": {},
     "output_type": "display_data"
    },
    {
     "data": {
      "text/plain": []
     },
     "execution_count": 26,
     "metadata": {},
     "output_type": "execute_result"
    }
   ],
   "source": [
    "import gradio as gr\n",
    "from PIL import Image\n",
    "import os\n",
    "\n",
    "# Define the folder where your images are stored\n",
    "IMAGE_FOLDER = \"images\"\n",
    "\n",
    "# Function to process the uploaded image\n",
    "def process_image(image):\n",
    "    # Save the uploaded image to the \"images\" folder\n",
    "    image_path = os.path.join(IMAGE_FOLDER, \"uploaded_image.jpg\")\n",
    "    image.save(image_path)\n",
    "    \n",
    "    # Open and return the image\n",
    "    img = Image.open(image_path)\n",
    "    return img\n",
    "\n",
    "# Create Gradio interface\n",
    "interface = gr.Interface(\n",
    "    fn=process_image,              # The function to process the image\n",
    "    inputs=gr.Image(type=\"pil\"),   # Accept image input in PIL format\n",
    "    outputs=gr.Image(type=\"pil\"),  # Display the output image\n",
    "    title=\"Upload and Process Image\",\n",
    "    description=\"Upload an image and it will be saved in the images folder.\"\n",
    ")\n",
    "\n",
    "# Launch the interface in the notebook\n",
    "interface.launch(share=True, inline=True)\n"
   ]
  },
  {
   "cell_type": "code",
   "execution_count": 27,
   "id": "3f8be3de-e30e-439b-bc81-4ec7761514e2",
   "metadata": {},
   "outputs": [],
   "source": [
    "import base64\n",
    "\n",
    "def encode_image(relative_image_path):\n",
    "    # Get the absolute path relative to the notebook location\n",
    "    base_path = os.getcwd()  # Get current working directory\n",
    "    image_path = os.path.join(base_path, relative_image_path)\n",
    "\n",
    "    # Encode the image\n",
    "    with open(image_path, \"rb\") as image_file:\n",
    "        return base64.b64encode(image_file.read()).decode('utf-8')\n",
    "\n",
    "# Provide the relative path to the image\n",
    "relative_path = \"images/uploaded_image.jpg\"\n",
    "base64_image = encode_image(relative_path)\n"
   ]
  },
  {
   "cell_type": "markdown",
   "id": "bdc281cd-ba24-4dc9-9b54-a8303b0e634d",
   "metadata": {},
   "source": [
    "## Prompt Engineering"
   ]
  },
  {
   "cell_type": "code",
   "execution_count": 28,
   "id": "d0553603-97f5-4563-b85e-459054114b98",
   "metadata": {},
   "outputs": [],
   "source": [
    "def llama32pi(prompt, image_url, model_size=11):\n",
    "  messages = [\n",
    "    {\n",
    "      \"role\": \"user\",\n",
    "      \"content\": [\n",
    "        {\"type\": \"text\",\n",
    "          \"text\": prompt},\n",
    "        {\"type\": \"image_url\",\n",
    "          \"image_url\": {\n",
    "            \"url\": image_url}\n",
    "        }\n",
    "      ]\n",
    "    },\n",
    "  ]\n",
    "\n",
    "  result = llama32(messages, model_size)\n",
    "  return result"
   ]
  },
  {
   "cell_type": "code",
   "execution_count": 29,
   "id": "185a2bbd-90dc-473c-bb91-d364e5b9102c",
   "metadata": {},
   "outputs": [],
   "source": [
    "question = (\"As a professional nutritionist and food detection expert, analyze the image provided of the interior of a refrigerator.You are analyzing the contents of a typical household refrigerator to assist in meal planning, grocery shopping, or nutritional advice. The goal is to provide a clear, concise, and comprehensive inventory of the food items present. Identify and list all visible food ingredients in the refrigerator, specifying details such as the type of food (e.g., fruits, vegetables, dairy, proteins), packaging (e.g., jar, container, loose), and the condition or freshness of each item if possible. Prioritize accuracy and clarity in your response.\")"
   ]
  },
  {
   "cell_type": "code",
   "execution_count": 30,
   "id": "c65dada2-5104-4a5a-9fd2-b1f6e9587107",
   "metadata": {},
   "outputs": [
    {
     "name": "stdout",
     "output_type": "stream",
     "text": [
      "The refrigerator contains a variety of food items, including:\n",
      "\n",
      "**Dairy and Eggs**\n",
      "\n",
      "* A container of Becel margarine\n",
      "* A container of yogurt\n",
      "* A carton of milk\n",
      "* A dozen eggs\n",
      "\n",
      "**Meat and Poultry**\n",
      "\n",
      "* A package of ground beef\n",
      "* A package of chicken breasts\n",
      "* A package of pork chops\n",
      "\n",
      "**Fruits and Vegetables**\n",
      "\n",
      "* A head of lettuce\n",
      "* A bunch of celery\n",
      "* A bag of apples\n",
      "* A bag of oranges\n",
      "* A bag of grapes\n",
      "* A bag of carrots\n",
      "* A bag of broccoli\n",
      "\n",
      "**Beverages**\n",
      "\n",
      "* A bottle of juice\n",
      "* A can of soda\n",
      "* A carton of juice\n",
      "* A bottle of water\n",
      "\n",
      "**Condiments and Sauces**\n",
      "\n",
      "* A jar of mayonnaise\n",
      "* A jar of ketchup\n",
      "* A bottle of hot sauce\n",
      "* A bottle of soy sauce\n",
      "\n",
      "**Miscellaneous**\n",
      "\n",
      "* A bag of ice\n",
      "* A box of cereal\n",
      "* A bag of coffee\n",
      "* A box of tea\n",
      "\n",
      "Overall, the refrigerator appears to be well-stocked with a variety of food items, including dairy products, meats, fruits, vegetables, beverages, condiments, and miscellaneous items. The condition and freshness of each item are not explicitly stated, but based on the appearance of the items, they appear to be in good condition.\n"
     ]
    }
   ],
   "source": [
    "base64_image = encode_image(\"images/uploaded_image.jpg\")\n",
    "result = llama32pi(question, f\"data:image/jpg;base64,{base64_image}\")\n",
    "print(result)"
   ]
  },
  {
   "cell_type": "markdown",
   "id": "40f6f6f4-37a2-4aa5-a796-47f8cbffd17e",
   "metadata": {},
   "source": [
    "## Search API"
   ]
  },
  {
   "cell_type": "code",
   "execution_count": 31,
   "id": "6264a59f-21d0-4280-be4c-de3ba06987c4",
   "metadata": {},
   "outputs": [
    {
     "name": "stdout",
     "output_type": "stream",
     "text": [
      "Running on local URL:  http://127.0.0.1:7867\n"
     ]
    },
    {
     "name": "stderr",
     "output_type": "stream",
     "text": [
      "INFO:httpx:HTTP Request: GET http://127.0.0.1:7867/startup-events \"HTTP/1.1 200 OK\"\n",
      "INFO:httpx:HTTP Request: HEAD http://127.0.0.1:7867/ \"HTTP/1.1 200 OK\"\n",
      "INFO:httpx:HTTP Request: GET https://api.gradio.app/pkg-version \"HTTP/1.1 200 OK\"\n",
      "INFO:httpx:HTTP Request: GET https://api.gradio.app/v2/tunnel-request \"HTTP/1.1 200 OK\"\n"
     ]
    },
    {
     "name": "stdout",
     "output_type": "stream",
     "text": [
      "Running on public URL: https://395b8b88c3ecc3cffa.gradio.live\n",
      "\n",
      "This share link expires in 72 hours. For free permanent hosting and GPU upgrades, run `gradio deploy` from Terminal to deploy to Spaces (https://huggingface.co/spaces)\n"
     ]
    },
    {
     "name": "stderr",
     "output_type": "stream",
     "text": [
      "INFO:httpx:HTTP Request: HEAD https://395b8b88c3ecc3cffa.gradio.live \"HTTP/1.1 200 OK\"\n"
     ]
    },
    {
     "data": {
      "text/html": [
       "<div><iframe src=\"https://395b8b88c3ecc3cffa.gradio.live\" width=\"100%\" height=\"500\" allow=\"autoplay; camera; microphone; clipboard-read; clipboard-write;\" frameborder=\"0\" allowfullscreen></iframe></div>"
      ],
      "text/plain": [
       "<IPython.core.display.HTML object>"
      ]
     },
     "metadata": {},
     "output_type": "display_data"
    },
    {
     "data": {
      "text/plain": []
     },
     "execution_count": 31,
     "metadata": {},
     "output_type": "execute_result"
    }
   ],
   "source": [
    "import gradio as gr\n",
    "from tavily import TavilyClient\n",
    "tavily_client = TavilyClient(api_key=TAVILY_API_KEY)\n",
    "\n",
    "# Define function to use Tavily API to search for food-related information\n",
    "def search_food_information(food_item):\n",
    "    search_result = tavily_client.search(\"Describe nutrition of\" + food_item)\n",
    "    return search_result\n",
    "\n",
    "# Gradio interface to take input and display the result\n",
    "search_interface = gr.Interface(\n",
    "    fn=search_food_information,\n",
    "    inputs=\"text\",\n",
    "    outputs=\"json\",\n",
    "    title=\"Food Information Search\",\n",
    "    description=\"Enter a food item to get more information using Tavily.\"\n",
    ")\n",
    "\n",
    "# Launch the interface in the notebook\n",
    "search_interface.launch(share=True, inline=True)\n"
   ]
  },
  {
   "cell_type": "markdown",
   "id": "fe9d7bd2-2452-4e0a-a95f-bd16477c7c7e",
   "metadata": {},
   "source": [
    "## Put it all together."
   ]
  },
  {
   "cell_type": "code",
   "execution_count": 34,
   "id": "8d3cc3f4-6099-4f9d-b884-72387ec87918",
   "metadata": {},
   "outputs": [
    {
     "name": "stdout",
     "output_type": "stream",
     "text": [
      "Running on local URL:  http://127.0.0.1:7870\n"
     ]
    },
    {
     "name": "stderr",
     "output_type": "stream",
     "text": [
      "INFO:httpx:HTTP Request: GET http://127.0.0.1:7870/startup-events \"HTTP/1.1 200 OK\"\n",
      "INFO:httpx:HTTP Request: HEAD http://127.0.0.1:7870/ \"HTTP/1.1 200 OK\"\n",
      "INFO:httpx:HTTP Request: GET https://api.gradio.app/pkg-version \"HTTP/1.1 200 OK\"\n",
      "INFO:httpx:HTTP Request: GET https://api.gradio.app/v2/tunnel-request \"HTTP/1.1 200 OK\"\n"
     ]
    },
    {
     "name": "stdout",
     "output_type": "stream",
     "text": [
      "Running on public URL: https://b41af9d35213e1b439.gradio.live\n",
      "\n",
      "This share link expires in 72 hours. For free permanent hosting and GPU upgrades, run `gradio deploy` from Terminal to deploy to Spaces (https://huggingface.co/spaces)\n"
     ]
    },
    {
     "name": "stderr",
     "output_type": "stream",
     "text": [
      "INFO:httpx:HTTP Request: HEAD https://b41af9d35213e1b439.gradio.live \"HTTP/1.1 200 OK\"\n"
     ]
    },
    {
     "data": {
      "text/html": [
       "<div><iframe src=\"https://b41af9d35213e1b439.gradio.live\" width=\"100%\" height=\"500\" allow=\"autoplay; camera; microphone; clipboard-read; clipboard-write;\" frameborder=\"0\" allowfullscreen></iframe></div>"
      ],
      "text/plain": [
       "<IPython.core.display.HTML object>"
      ]
     },
     "metadata": {},
     "output_type": "display_data"
    },
    {
     "data": {
      "text/plain": []
     },
     "execution_count": 34,
     "metadata": {},
     "output_type": "execute_result"
    },
    {
     "name": "stderr",
     "output_type": "stream",
     "text": [
      "INFO:root:Encoded image length: 295464\n"
     ]
    }
   ],
   "source": [
    "import gradio as gr\n",
    "import os\n",
    "import base64\n",
    "import logging\n",
    "from tavily import TavilyClient\n",
    "\n",
    "# Set up logging\n",
    "logging.basicConfig(level=logging.INFO)\n",
    "\n",
    "# Load environment variables\n",
    "load_env()\n",
    "TAVILY_API_KEY = os.getenv(\"TAVILY_API_KEY\")\n",
    "\n",
    "# Ensure the API key is set\n",
    "if not TAVILY_API_KEY:\n",
    "    raise ValueError(\"Tavily API key is missing. Please ensure it is correctly set.\")\n",
    "\n",
    "# Initialize Tavily client\n",
    "tavily_client = TavilyClient(api_key=TAVILY_API_KEY)\n",
    "\n",
    "# Define the folder where your images are stored\n",
    "IMAGE_FOLDER = \"images\"\n",
    "if not os.path.exists(IMAGE_FOLDER):\n",
    "    os.makedirs(IMAGE_FOLDER)\n",
    "\n",
    "# Function to process the uploaded image\n",
    "def process_image(image):\n",
    "    try:\n",
    "        # Save the uploaded image to the \"images\" folder\n",
    "        image_path = os.path.join(IMAGE_FOLDER, \"uploaded_image.jpg\")\n",
    "        image.save(image_path)\n",
    "\n",
    "        # Encode the image to base64\n",
    "        base64_image = encode_image(image_path)\n",
    "        image_data_url = f\"data:image/jpeg;base64,{base64_image}\"\n",
    "        logging.info(f\"Encoded image length: {len(base64_image)}\")\n",
    "\n",
    "        # Define the question to be asked\n",
    "        question = (\"As a professional nutritionist and food detection expert, analyze the image provided of the interior of a refrigerator.You are analyzing the contents of a typical household refrigerator to assist in meal planning, grocery shopping, or nutritional advice. The goal is to provide a clear, concise, and comprehensive inventory of the food items present. Identify and list all visible food ingredients in the refrigerator, specifying details such as the type of food (e.g., fruits, vegetables, dairy, proteins), packaging (e.g., jar, container, loose), and the condition or freshness of each item if possible. Prioritize accuracy and clarity in your response.\")\n",
    "\n",
    "\n",
    "        # Get the analysis result from llama32pi\n",
    "        result = llama32pi(question, image_data_url)\n",
    "        return result\n",
    "\n",
    "    except FileNotFoundError as e:\n",
    "        return f\"Error: {e}\"\n",
    "    except Exception as e:\n",
    "        return f\"An unexpected error occurred: {e}\"\n",
    "\n",
    "# Function to use Tavily API to search for food-related information\n",
    "def search_food_information(food_item):\n",
    "    # Validate the input\n",
    "    if not food_item.strip():\n",
    "        return \"Please enter a valid food item.\"\n",
    "\n",
    "    try:\n",
    "        # Call Tavily API\n",
    "        search_result = tavily_client.search(\"Describe nutrition of \" + food_item)\n",
    "        # Format the search result for better readability\n",
    "        if not search_result.get('results'):\n",
    "            return \"No results found for the given food item.\"\n",
    "\n",
    "        formatted_result = f\"Query: {search_result['query']}\\n\\n\"\n",
    "        for idx, result in enumerate(search_result['results'], start=1):\n",
    "            formatted_result += (f\"Result {idx}:\\n\"\n",
    "                                f\"Title: {result['title']}\\n\"\n",
    "                                f\"URL: {result['url']}\\n\"\n",
    "                                f\"Content: {result['content']}\\n\\n\")\n",
    "        return formatted_result\n",
    "    except Exception as e:\n",
    "        return f\"An error occurred while searching for information: {e}\"\n",
    "\n",
    "# Create a combined Gradio interface for uploading image and searching for nutrition information\n",
    "with gr.Blocks() as demo:\n",
    "    gr.Markdown(\"# Know Your Nutrients - Food Analysis and Nutrition Search\")\n",
    "    \n",
    "    # Upload and process the image section\n",
    "    with gr.Row():\n",
    "        with gr.Column():\n",
    "            image_input = gr.Image(type=\"pil\", label=\"Upload Refrigerator Image\")\n",
    "            analyze_button = gr.Button(\"Analyze Image\")\n",
    "        with gr.Column():\n",
    "            analysis_output = gr.Textbox(label=\"Refrigerator Analysis Result\")\n",
    "\n",
    "    # Image analysis function\n",
    "    analyze_button.click(fn=process_image, inputs=image_input, outputs=analysis_output)\n",
    "    \n",
    "    # Nutrition search section\n",
    "    with gr.Row():\n",
    "        with gr.Column():\n",
    "            food_input = gr.Textbox(label=\"Enter Food Item to Search Nutrition Information\")\n",
    "            search_button = gr.Button(\"Search Nutrition\")\n",
    "        with gr.Column():\n",
    "            search_output = gr.Textbox(label=\"Nutrition Information Result\")\n",
    "\n",
    "    # Food information search function\n",
    "    search_button.click(fn=search_food_information, inputs=food_input, outputs=search_output)\n",
    "\n",
    "# Launch the interface in the notebook\n",
    "demo.launch(share=True, inline=True)\n"
   ]
  }
 ],
 "metadata": {
  "kernelspec": {
   "display_name": "Python 3 (ipykernel)",
   "language": "python",
   "name": "python3"
  },
  "language_info": {
   "codemirror_mode": {
    "name": "ipython",
    "version": 3
   },
   "file_extension": ".py",
   "mimetype": "text/x-python",
   "name": "python",
   "nbconvert_exporter": "python",
   "pygments_lexer": "ipython3",
   "version": "3.12.7"
  }
 },
 "nbformat": 4,
 "nbformat_minor": 5
}
